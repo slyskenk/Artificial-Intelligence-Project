{
 "cells": [
  {
   "cell_type": "code",
   "execution_count": 1,
   "id": "28713af4-f713-44c5-90d0-dd9323f1fcb1",
   "metadata": {},
   "outputs": [],
   "source": [
    "# Part 1: Search Algorithms: Degrees of Separation     "
   ]
  },
  {
   "cell_type": "code",
   "execution_count": null,
   "id": "5c4caa70-de9f-4ec8-a654-2172dbe98a8f",
   "metadata": {},
   "outputs": [],
   "source": []
  },
  {
   "cell_type": "code",
   "execution_count": 2,
   "id": "0f267613-b833-4de5-a147-6040fd634da7",
   "metadata": {},
   "outputs": [],
   "source": [
    "# Part 2: Optimisation: The Sudoku Puzzle.   "
   ]
  },
  {
   "cell_type": "code",
   "execution_count": null,
   "id": "93abebcc-9fb6-4643-967f-64ba08cd7dc1",
   "metadata": {},
   "outputs": [],
   "source": []
  },
  {
   "cell_type": "code",
   "execution_count": 3,
   "id": "3ac60500-fd4b-4656-b07b-f2b961fe93d2",
   "metadata": {},
   "outputs": [],
   "source": [
    "# Part 3: Machine Learning: Tra ic Sign Recognition  "
   ]
  },
  {
   "cell_type": "code",
   "execution_count": null,
   "id": "e4ad30f6-63c7-4522-b2e5-bad2ae83865f",
   "metadata": {},
   "outputs": [],
   "source": []
  },
  {
   "cell_type": "code",
   "execution_count": null,
   "id": "d87793f2-088a-4aca-8c58-6eeb2f6114c9",
   "metadata": {},
   "outputs": [],
   "source": []
  }
 ],
 "metadata": {
  "kernelspec": {
   "display_name": "Python 3 (ipykernel)",
   "language": "python",
   "name": "python3"
  },
  "language_info": {
   "codemirror_mode": {
    "name": "ipython",
    "version": 3
   },
   "file_extension": ".py",
   "mimetype": "text/x-python",
   "name": "python",
   "nbconvert_exporter": "python",
   "pygments_lexer": "ipython3",
   "version": "3.12.4"
  }
 },
 "nbformat": 4,
 "nbformat_minor": 5
}
