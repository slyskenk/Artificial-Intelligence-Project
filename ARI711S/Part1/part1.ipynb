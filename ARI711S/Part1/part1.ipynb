{
 "cells": [
  {
   "cell_type": "markdown",
   "id": "8b15fc6c",
   "metadata": {},
   "source": [
    "# We start by Importing CSV Files and Show their existence\n",
    "\n",
    "### Additionally we check if there are any missing data values (A common data science process)"
   ]
  },
  {
   "cell_type": "code",
   "execution_count": 6,
   "id": "8e8f1f62",
   "metadata": {},
   "outputs": [
    {
     "data": {
      "text/html": [
       "<div>\n",
       "<style scoped>\n",
       "    .dataframe tbody tr th:only-of-type {\n",
       "        vertical-align: middle;\n",
       "    }\n",
       "\n",
       "    .dataframe tbody tr th {\n",
       "        vertical-align: top;\n",
       "    }\n",
       "\n",
       "    .dataframe thead th {\n",
       "        text-align: right;\n",
       "    }\n",
       "</style>\n",
       "<table border=\"1\" class=\"dataframe\">\n",
       "  <thead>\n",
       "    <tr style=\"text-align: right;\">\n",
       "      <th></th>\n",
       "      <th>paper_id</th>\n",
       "      <th>scientist_id</th>\n",
       "    </tr>\n",
       "  </thead>\n",
       "  <tbody>\n",
       "    <tr>\n",
       "      <th>0</th>\n",
       "      <td>p1</td>\n",
       "      <td>1</td>\n",
       "    </tr>\n",
       "    <tr>\n",
       "      <th>1</th>\n",
       "      <td>p2</td>\n",
       "      <td>1</td>\n",
       "    </tr>\n",
       "    <tr>\n",
       "      <th>2</th>\n",
       "      <td>p3</td>\n",
       "      <td>5</td>\n",
       "    </tr>\n",
       "    <tr>\n",
       "      <th>3</th>\n",
       "      <td>p4</td>\n",
       "      <td>6</td>\n",
       "    </tr>\n",
       "    <tr>\n",
       "      <th>4</th>\n",
       "      <td>p1</td>\n",
       "      <td>2</td>\n",
       "    </tr>\n",
       "  </tbody>\n",
       "</table>\n",
       "</div>"
      ],
      "text/plain": [
       "  paper_id  scientist_id\n",
       "0       p1             1\n",
       "1       p2             1\n",
       "2       p3             5\n",
       "3       p4             6\n",
       "4       p1             2"
      ]
     },
     "metadata": {},
     "output_type": "display_data"
    },
    {
     "data": {
      "text/html": [
       "<div>\n",
       "<style scoped>\n",
       "    .dataframe tbody tr th:only-of-type {\n",
       "        vertical-align: middle;\n",
       "    }\n",
       "\n",
       "    .dataframe tbody tr th {\n",
       "        vertical-align: top;\n",
       "    }\n",
       "\n",
       "    .dataframe thead th {\n",
       "        text-align: right;\n",
       "    }\n",
       "</style>\n",
       "<table border=\"1\" class=\"dataframe\">\n",
       "  <thead>\n",
       "    <tr style=\"text-align: right;\">\n",
       "      <th></th>\n",
       "      <th>id</th>\n",
       "      <th>title</th>\n",
       "      <th>year</th>\n",
       "    </tr>\n",
       "  </thead>\n",
       "  <tbody>\n",
       "    <tr>\n",
       "      <th>0</th>\n",
       "      <td>p1</td>\n",
       "      <td>paperOne</td>\n",
       "      <td>2012</td>\n",
       "    </tr>\n",
       "    <tr>\n",
       "      <th>1</th>\n",
       "      <td>p2</td>\n",
       "      <td>paperTwo</td>\n",
       "      <td>2013</td>\n",
       "    </tr>\n",
       "    <tr>\n",
       "      <th>2</th>\n",
       "      <td>p3</td>\n",
       "      <td>paperThree</td>\n",
       "      <td>2014</td>\n",
       "    </tr>\n",
       "    <tr>\n",
       "      <th>3</th>\n",
       "      <td>p4</td>\n",
       "      <td>paperFour</td>\n",
       "      <td>2015</td>\n",
       "    </tr>\n",
       "  </tbody>\n",
       "</table>\n",
       "</div>"
      ],
      "text/plain": [
       "   id       title  year\n",
       "0  p1    paperOne  2012\n",
       "1  p2    paperTwo  2013\n",
       "2  p3  paperThree  2014\n",
       "3  p4   paperFour  2015"
      ]
     },
     "metadata": {},
     "output_type": "display_data"
    },
    {
     "data": {
      "text/html": [
       "<div>\n",
       "<style scoped>\n",
       "    .dataframe tbody tr th:only-of-type {\n",
       "        vertical-align: middle;\n",
       "    }\n",
       "\n",
       "    .dataframe tbody tr th {\n",
       "        vertical-align: top;\n",
       "    }\n",
       "\n",
       "    .dataframe thead th {\n",
       "        text-align: right;\n",
       "    }\n",
       "</style>\n",
       "<table border=\"1\" class=\"dataframe\">\n",
       "  <thead>\n",
       "    <tr style=\"text-align: right;\">\n",
       "      <th></th>\n",
       "      <th>id</th>\n",
       "      <th>name</th>\n",
       "    </tr>\n",
       "  </thead>\n",
       "  <tbody>\n",
       "    <tr>\n",
       "      <th>0</th>\n",
       "      <td>1</td>\n",
       "      <td>slysken</td>\n",
       "    </tr>\n",
       "    <tr>\n",
       "      <th>1</th>\n",
       "      <td>2</td>\n",
       "      <td>victor</td>\n",
       "    </tr>\n",
       "    <tr>\n",
       "      <th>2</th>\n",
       "      <td>3</td>\n",
       "      <td>helena</td>\n",
       "    </tr>\n",
       "    <tr>\n",
       "      <th>3</th>\n",
       "      <td>4</td>\n",
       "      <td>twapandula</td>\n",
       "    </tr>\n",
       "    <tr>\n",
       "      <th>4</th>\n",
       "      <td>5</td>\n",
       "      <td>liam</td>\n",
       "    </tr>\n",
       "  </tbody>\n",
       "</table>\n",
       "</div>"
      ],
      "text/plain": [
       "   id        name\n",
       "0   1     slysken\n",
       "1   2      victor\n",
       "2   3      helena\n",
       "3   4  twapandula\n",
       "4   5        liam"
      ]
     },
     "metadata": {},
     "output_type": "display_data"
    }
   ],
   "source": [
    "import pandas as pd\n",
    "\n",
    "df_authors = pd.read_csv('authors.csv')\n",
    "df_papers = pd.read_csv('papers.csv')\n",
    "df_scientists = pd.read_csv('scientists.csv')\n",
    "\n",
    "display(df_authors.head())\n",
    "display(df_papers.head())\n",
    "display(df_scientists.head())"
   ]
  },
  {
   "cell_type": "markdown",
   "id": "8b03021a",
   "metadata": {},
   "source": [
    "#### Shows that there are no missing values in the dataset"
   ]
  },
  {
   "cell_type": "code",
   "execution_count": 8,
   "id": "15c375de",
   "metadata": {},
   "outputs": [
    {
     "name": "stdout",
     "output_type": "stream",
     "text": [
      "df_authors for missing values:\n",
      "paper_id        0\n",
      "scientist_id    0\n",
      "dtype: int64\n",
      "\n",
      "\n",
      "df_papers missing values:\n",
      "id       0\n",
      "title    0\n",
      "year     0\n",
      "dtype: int64\n",
      "\n",
      "\n",
      "df_scientists missing values:\n",
      "id      0\n",
      "name    0\n",
      "dtype: int64\n",
      "\n",
      "\n"
     ]
    }
   ],
   "source": [
    "print(\"df_authors for missing values:\")\n",
    "print(df_authors.isnull().sum())\n",
    "print(\"\\n\")\n",
    "\n",
    "print(\"df_papers missing values:\")\n",
    "print(df_papers.isnull().sum())\n",
    "print(\"\\n\")\n",
    "\n",
    "print(\"df_scientists missing values:\")\n",
    "print(df_scientists.isnull().sum())\n",
    "print(\"\\n\")"
   ]
  },
  {
   "cell_type": "markdown",
   "id": "4ccad063",
   "metadata": {},
   "source": [
    "### We Put the Data Frames Into to help with co-authorship later on"
   ]
  },
  {
   "cell_type": "code",
   "execution_count": 10,
   "id": "5237f77e",
   "metadata": {},
   "outputs": [],
   "source": [
    "merged_df = pd.merge(df_authors, df_papers, left_on='paper_id', right_on='id', how='inner')\n",
    "merged_df = pd.merge(merged_df, df_scientists, left_on='scientist_id', right_on='id', how='inner')\n",
    "co_authorship_network = {}\n",
    "for _, row in merged_df.iterrows():\n",
    "    scientist_name = row['name']\n",
    "    paper_title = row['title']\n",
    "    co_authors = merged_df[(merged_df['paper_id'] == row['paper_id']) & (merged_df['name'] != scientist_name)]['name'].tolist()\n",
    "    if scientist_name not in co_authorship_network:\n",
    "        co_authorship_network[scientist_name] = {}\n",
    "    for co_author in co_authors:\n",
    "        if co_author not in co_authorship_network[scientist_name]:\n",
    "            co_authorship_network[scientist_name][co_author] = []\n",
    "        co_authorship_network[scientist_name][co_author].append(paper_title)\n",
    "\n",
    "def get_neighbors(scientist, co_authorship_network):\n",
    "    \"\"\"\n",
    "    Returns a list of co-authors and paper titles for a given scientist.\n",
    "    \"\"\"\n",
    "    if scientist in co_authorship_network:\n",
    "        neighbors = []\n",
    "        for co_author, papers in co_authorship_network[scientist].items():\n",
    "            for paper in papers:\n",
    "                neighbors.append((co_author, paper))\n",
    "        return neighbors\n",
    "    else:\n",
    "        return []\n",
    "\n",
    "\n",
    "def is_goal_state(current_scientist, target_scientist):\n",
    "    \"\"\"\n",
    "    Checks if the current scientist is the target scientist.\n",
    "    \"\"\"\n",
    "    return current_scientist == target_scientist\n"
   ]
  },
  {
   "cell_type": "markdown",
   "id": "1b8d9d23",
   "metadata": {},
   "source": [
    "### Breadth-First Search is then implemented"
   ]
  },
  {
   "cell_type": "code",
   "execution_count": 11,
   "id": "f15ef6f5",
   "metadata": {},
   "outputs": [],
   "source": [
    "from collections import deque\n",
    "\n",
    "def bfs_shortest_path(co_authorship_network, start_scientist, target_scientist):\n",
    "    \"\"\"\n",
    "    Finds the shortest path between two scientists using breadth-first search.\n",
    "    \"\"\"\n",
    "    if start_scientist not in co_authorship_network or target_scientist not in co_authorship_network:\n",
    "        return []  \n",
    "\n",
    "    queue = deque([(start_scientist, [])])  \n",
    "    visited = {start_scientist}\n",
    "    parent = {} \n",
    "\n",
    "    while queue:\n",
    "        current_scientist, path = queue.popleft()\n",
    "\n",
    "        if is_goal_state(current_scientist, target_scientist):\n",
    "            return path\n",
    "\n",
    "        for neighbor, paper in get_neighbors(current_scientist, co_authorship_network):\n",
    "            if neighbor not in visited:\n",
    "                visited.add(neighbor)\n",
    "                new_path = path + [(current_scientist, paper, neighbor)]\n",
    "                queue.append((neighbor, new_path))\n",
    "                parent[neighbor] = (current_scientist, paper)\n",
    "\n",
    "    return []  "
   ]
  },
  {
   "cell_type": "markdown",
   "id": "a45080f6",
   "metadata": {},
   "source": [
    "### Now lets test to see if we will find a scientist Co-Authorship"
   ]
  },
  {
   "cell_type": "code",
   "execution_count": 12,
   "id": "14e7730f",
   "metadata": {},
   "outputs": [
    {
     "name": "stdout",
     "output_type": "stream",
     "text": [
      "Shortest path between slysken and victor:\n",
      "1: slysken and victor co-authored \"paperOne\"\n"
     ]
    }
   ],
   "source": [
    "start_scientist = 'slysken'\n",
    "target_scientist = 'victor'\n",
    "shortest_path = bfs_shortest_path(co_authorship_network, start_scientist, target_scientist)\n",
    "\n",
    "if shortest_path:\n",
    "    print(f\"Shortest path between {start_scientist} and {target_scientist}:\")\n",
    "    for i, step in enumerate(shortest_path):\n",
    "        print(f\"{i+1}: {step[0]} and {step[2]} co-authored \\\"{step[1]}\\\"\")\n",
    "else:\n",
    "    print(f\"No path found between {start_scientist} and {target_scientist}\")"
   ]
  },
  {
   "cell_type": "markdown",
   "id": "18dbb236",
   "metadata": {},
   "source": [
    "### Due to successful Co-authorship, let us test accuracy overall (With Scientist both in and not in the dataset)"
   ]
  },
  {
   "cell_type": "code",
   "execution_count": 13,
   "id": "f845f386",
   "metadata": {},
   "outputs": [
    {
     "name": "stdout",
     "output_type": "stream",
     "text": [
      "Test case 1:\n",
      "  Start: slysken, Target: victor\n",
      "  Expected degrees: 1, Actual degrees: 1\n",
      "  Expected path: [('slysken', 'paperOne', 'victor')], Actual path: [('slysken', 'paperOne', 'victor')]\n",
      "--------------------\n",
      "Test case 2:\n",
      "  Start: slysken, Target: Balázs Győrffy\n",
      "  Expected degrees: 0, Actual degrees: 0\n",
      "  Expected path: [], Actual path: []\n",
      "--------------------\n",
      "Test case 3:\n",
      "  Start: NonExistentScientist, Target: victor\n",
      "  Expected degrees: 0, Actual degrees: 0\n",
      "  Expected path: [], Actual path: []\n",
      "--------------------\n",
      "\n",
      "Summary:\n",
      "  Total test cases: 3\n",
      "  Correctly predicted cases: 3\n",
      "  Accuracy: 100.00%\n"
     ]
    }
   ],
   "source": [
    "test_cases = [\n",
    "  \n",
    "    {'start': 'slysken', 'target': 'victor', 'expected_degrees': 1, 'expected_path': [('slysken', 'paperOne', 'victor')]},\n",
    "  \n",
    "    {'start': 'slysken', 'target': 'Balázs Győrffy', 'expected_degrees': 0, 'expected_path': []},\n",
    "  \n",
    "    {'start': 'NonExistentScientist', 'target': 'victor', 'expected_degrees': 0, 'expected_path': []},\n",
    "]\n",
    "\n",
    "\n",
    "results = []\n",
    "for i, case in enumerate(test_cases):\n",
    "    start_scientist = case['start']\n",
    "    target_scientist = case['target']\n",
    "    actual_path = bfs_shortest_path(co_authorship_network, start_scientist, target_scientist)\n",
    "    actual_degrees = len(actual_path)\n",
    "\n",
    "    results.append({\n",
    "        'case': i + 1,\n",
    "        'start': start_scientist,\n",
    "        'target': target_scientist,\n",
    "        'expected_degrees': case['expected_degrees'],\n",
    "        'actual_degrees': actual_degrees,\n",
    "        'expected_path': case['expected_path'],\n",
    "        'actual_path': actual_path\n",
    "    })\n",
    "\n",
    "    print(f\"Test case {i+1}:\")\n",
    "    print(f\"  Start: {start_scientist}, Target: {target_scientist}\")\n",
    "    print(f\"  Expected degrees: {case['expected_degrees']}, Actual degrees: {actual_degrees}\")\n",
    "    print(f\"  Expected path: {case['expected_path']}, Actual path: {actual_path}\")\n",
    "    print(\"-\" * 20)\n",
    "\n",
    "\n",
    "correct_count = sum(1 for result in results if result['expected_degrees'] == result['actual_degrees'] and result['expected_path'] == result['actual_path'])\n",
    "accuracy = (correct_count / len(test_cases)) * 100\n",
    "print(f\"\\nSummary:\")\n",
    "print(f\"  Total test cases: {len(test_cases)}\")\n",
    "print(f\"  Correctly predicted cases: {correct_count}\")\n",
    "print(f\"  Accuracy: {accuracy:.2f}%\")"
   ]
  }
 ],
 "metadata": {
  "kernelspec": {
   "display_name": "base",
   "language": "python",
   "name": "python3"
  },
  "language_info": {
   "codemirror_mode": {
    "name": "ipython",
    "version": 3
   },
   "file_extension": ".py",
   "mimetype": "text/x-python",
   "name": "python",
   "nbconvert_exporter": "python",
   "pygments_lexer": "ipython3",
   "version": "3.12.4"
  }
 },
 "nbformat": 4,
 "nbformat_minor": 5
}
