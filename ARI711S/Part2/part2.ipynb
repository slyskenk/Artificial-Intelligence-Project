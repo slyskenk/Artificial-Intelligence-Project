class Sudoku_AI_solver:

    def _init_(self, board):
        self.board = board
        self.variables = [(i, j) for i in range(9) for j in range(9)]
        self.domains = dict()
        for var in self.variables:
            i, j = var
            if board[i][j] == 0:
                self.domains[var] = set(range(1, 10))
            else:
                self.domains[var] = {board[i][j]}
        self.neighbors = dict()
        for var in self.variables:
            self.neighbors[var] = self.get_neighbors(var)

    def get_neighbors(self, var):
        i, j = var
        neighbors = set()
        for k in range(9):
            if k != j:
                neighbors.add((i, k))
            if k != i:
                neighbors.add((k, j))
        box_row = (i // 3) * 3
        box_col = (j // 3) * 3
        for r in range(box_row, box_row + 3):
            for c in range(box_col, box_col + 3):
                if (r, c) != var:
                    neighbors.add((r, c))
        return neighbors

    def enforce_node_consistency(self):
        for var in self.variables:
            if len(self.domains[var]) == 1:
                val = next(iter(self.domains[var]))
                for neighbor in self.neighbors[var]:
                    if val in self.domains[neighbor]:
                        self.domains[neighbor].discard(val)

    def revise(self, x, y):
        revised = False
        to_remove = set()
        for val_x in self.domains[x]:
            if all(val_x == val_y for val_y in self.domains[y]):
                to_remove.add(val_x)
        if to_remove:
            self.domains[x] -= to_remove
            revised = True
        return revised

    def ac3(self):
        from collections import deque
        queue = deque()
        for x in self.variables:
            for y in self.neighbors[x]:
                queue.append((x, y))
        while queue:
            x, y = queue.popleft()
            if self.revise(x, y):
                if len(self.domains[x]) == 0:
                    return False
                for z in self.neighbors[x]:
                    if z != y:
                        queue.append((z, x))
        return True

    def assignment_complete(self, assignment):
        return all(var in assignment and assignment[var] != 0 for var in self.variables)

    def consistent(self, assignment):
        for var in assignment:
            val = assignment[var]
            if val == 0:
                continue
            for neighbor in self.neighbors[var]:
                if neighbor in assignment and assignment[neighbor] == val:
                    return False
        return True
