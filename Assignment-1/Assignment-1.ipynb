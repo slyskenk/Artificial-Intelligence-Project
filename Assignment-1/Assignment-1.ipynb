{
 "cells": [
  {
   "cell_type": "markdown",
   "id": "44714828",
   "metadata": {},
   "source": [
    "# Question 1: Search Algorithms - Informed Search   "
   ]
  },
  {
   "cell_type": "code",
   "execution_count": null,
   "id": "b131f083",
   "metadata": {},
   "outputs": [],
   "source": []
  },
  {
   "cell_type": "markdown",
   "id": "f9742948",
   "metadata": {
    "vscode": {
     "languageId": "plaintext"
    }
   },
   "source": [
    "# Question 2: CSP-Travel Salesperson Problem: Simulated Annealing "
   ]
  },
  {
   "cell_type": "code",
   "execution_count": null,
   "id": "d6c2cb1b",
   "metadata": {
    "vscode": {
     "languageId": "plaintext"
    }
   },
   "outputs": [],
   "source": []
  },
  {
   "cell_type": "markdown",
   "id": "9ec55b3e",
   "metadata": {
    "vscode": {
     "languageId": "plaintext"
    }
   },
   "source": [
    "# Question 3: Adversarial Search      "
   ]
  },
  {
   "cell_type": "code",
   "execution_count": null,
   "id": "1d650bf8",
   "metadata": {
    "vscode": {
     "languageId": "plaintext"
    }
   },
   "outputs": [],
   "source": []
  },
  {
   "cell_type": "markdown",
   "id": "6c8305f4",
   "metadata": {
    "vscode": {
     "languageId": "plaintext"
    }
   },
   "source": [
    "#  Question 4: MDPs – Q-learning  "
   ]
  }
 ],
 "metadata": {
  "language_info": {
   "name": "python"
  }
 },
 "nbformat": 4,
 "nbformat_minor": 5
}
