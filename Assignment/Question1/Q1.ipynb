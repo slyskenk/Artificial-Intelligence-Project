{
 "cells": [
  {
   "cell_type": "code",
   "execution_count": 1,
   "id": "dbf4d77c-83f6-4f5a-a820-7767945d93f5",
   "metadata": {},
   "outputs": [],
   "source": [
    "import numpy as np\n",
    "import heapq\n",
    "import matplotlib.pyplot as plt\n",
    "from matplotlib.colors import ListedColormap\n",
    "import matplotlib.patches as mpatches"
   ]
  },
  {
   "cell_type": "code",
   "execution_count": 2,
   "id": "f869da91-4372-4297-a06e-29ad3992aea1",
   "metadata": {},
   "outputs": [
    {
     "name": "stdout",
     "output_type": "stream",
     "text": [
      "continue\n"
     ]
    }
   ],
   "source": [
    "class Maze:\n",
    "    def __init__(self, filename):\n",
    "        \"\"\"Initialize the maze from a text file.\"\"\"\n",
    "        self.maze = self.read_maze(filename)\n",
    "        self.rows, self.cols = self.maze.shape\n",
    "        self.start = self.find_position('A')\n",
    "        self.goal = self.find_position('B')\n",
    "        \n",
    "    def read_maze(self, filename):\n",
    "       #Read the maze from the text file. \n",
    "        with open(filename, 'r') as file:\n",
    "            maze_lines = file.readlines()\n",
    "        \n",
    "        #maze dimensions\n",
    "        maze_lines = [line.strip() for line in maze_lines]\n",
    "        rows = len(maze_lines)\n",
    "        cols = max(len(line) for line in maze_lines)\n",
    "        \n",
    "        #converting the maze to a numpy array.\n",
    "        maze = np.full((rows, cols), '#')  #the walls are hashtags '#####'\n",
    "        \n",
    "        # fill the maze array\n",
    "        for i, line in enumerate(maze_lines):\n",
    "            for j, char in enumerate(line):\n",
    "                maze[i, j] = char\n",
    "        return maze\n",
    "    \n",
    "    def find_position(self, char):\n",
    "        \"\"\"Find the position of a character in the maze.\"\"\"\n",
    "        positions = np.where(self.maze == char)\n",
    "        if len(positions[0]) == 0:\n",
    "            raise ValueError(f\"Character '{char}' not found in maze\") #if character is not in maze\n",
    "        return (positions[0][0], positions[1][0])\n",
    "    \n",
    "    def get_neighbors(self, state):\n",
    "        \"\"\"Return all valid adjacent cells (up, down, left, right).\"\"\"\n",
    "        row, col = state\n",
    "        neighbors = []\n",
    "        moves = [\n",
    "            ('up', (-1, 0)),\n",
    "            ('right', (0, 1)),\n",
    "            ('down', (1, 0)),\n",
    "            ('left', (0, -1))\n",
    "        ]\n",
    "        \n",
    "        for action, (dr, dc) in moves:\n",
    "            new_row, new_col = row + dr, col + dc\n",
    "            \n",
    "            #ensure the new position is within the maze boundaries\n",
    "            if 0 <= new_row < self.rows and 0 <= new_col < self.cols:\n",
    "                # Check if the new position is not a wall\n",
    "                if self.maze[new_row, new_col] != '#':\n",
    "                    neighbors.append((action, (new_row, new_col)))\n",
    "        return neighbors\n",
    "    \n",
    "    def manhattan_distance(self, state1, state2):\n",
    "        \"\"\"Calculate Manhattan distance between two states.\"\"\"\n",
    "        return abs(state1[0] - state2[0]) + abs(state1[1] - state2[1])\n",
    "    \n",
    "    def solve(self, algorithm=\"greedy\"):        \n",
    "        # Node for the start state\n",
    "        start_node = Node(state=self.start, parent=None, action=None, cost=0)\n",
    "        \n",
    "        # Initialize the frontier with the start node\n",
    "        frontier = []\n",
    "        \n",
    "        if algorithm == \"greedy\":  #greedy, priority = h(n)\n",
    "            priority = self.manhattan_distance(self.start, self.goal)\n",
    "            \n",
    "        else:  #A*, priority = g(n) + h(n)\n",
    "            priority = self.manhattan_distance(self.start, self.goal) + 0  # g(n) = 0 for start\n",
    "        \n",
    "        # ADD the start node to the frontier\n",
    "        heapq.heappush(frontier, (priority, id(start_node), start_node))\n",
    "        \n",
    "        # Initialize the explored set\n",
    "        explored = set()\n",
    "        \n",
    "        # Initialize a dictionary to track frontier nodes by state\n",
    "        frontier_states = {self.start: start_node}\n",
    "        \n",
    "        while frontier:\n",
    "            # Get the node with the lowest priority\n",
    "            _, _, current_node = heapq.heappop(frontier)\n",
    "            \n",
    "            # Remove from frontier states (its now explored)\n",
    "            if current_node.state in frontier_states:\n",
    "                del frontier_states[current_node.state]\n",
    "            \n",
    "            # Check if we've reached the goal\n",
    "            if current_node.state == self.goal:\n",
    "                # Reconstruct the path\n",
    "                path = []\n",
    "                while current_node.parent is not None:\n",
    "                    path.append((current_node.action, current_node.state))\n",
    "                    current_node = current_node.parent\n",
    "                path.reverse()\n",
    "                return path, explored\n",
    "            \n",
    "            # Add the current state to the explored set\n",
    "            explored.add(current_node.state)\n",
    "            \n",
    "            # Explore neighbors\n",
    "            for action, next_state in self.get_neighbors(current_node.state):\n",
    "                # Skip if already explored\n",
    "                if next_state in explored:\n",
    "                    continue\n",
    "                \n",
    "                # Calculate new cost (for A*)\n",
    "                new_cost = current_node.cost + 1\n",
    "                \n",
    "                # Check if already in frontier with higher cost\n",
    "                if next_state in frontier_states and algorithm == \"a_star\":\n",
    "                    if frontier_states[next_state].cost <= new_cost:\n",
    "                        continue\n",
    "                \n",
    "                # Create a new node\n",
    "                new_node = Node(\n",
    "                    state=next_state,\n",
    "                    parent=current_node,\n",
    "                    action=action,\n",
    "                    cost=new_cost\n",
    "                )\n",
    "                \n",
    "                # Calculating priority \n",
    "                if algorithm == \"greedy\":\n",
    "                    priority = self.manhattan_distance(next_state, self.goal)\n",
    "                else:  # A*\n",
    "                    priority = new_cost + self.manhattan_distance(next_state, self.goal)\n",
    "                \n",
    "                # Add node to frontier\n",
    "                heapq.heappush(frontier, (priority, id(new_node), new_node))\n",
    "                frontier_states[next_state] = new_node\n",
    "        #when th maze has no path\n",
    "        raise ValueError(\"No path from start to goal\")\n",
    "    \n",
    "    def visualize(self, path=None, explored=None, filename=None, algorithm_name=\"Search\"):\n",
    "            # Create a colormap for visualization\n",
    "            colors = ['white', 'black', 'green', 'red', 'blue', 'yellow']\n",
    "            #colors = [0 , 1 , 2 , 3 , 4 , 5] \n",
    "            cmap = ListedColormap(colors)\n",
    "            \n",
    "            #a numeric representation of the maze for coloring\n",
    "            vis_maze = np.zeros((self.rows, self.cols), dtype=int)\n",
    "\n",
    "            ## ASSIGNING COLORS\n",
    "            vis_maze[self.maze == '#'] = 1  \n",
    "            vis_maze[self.start] = 2        \n",
    "            vis_maze[self.goal] = 3         \n",
    "            \n",
    "            if explored:                     \n",
    "                for row, col in explored:\n",
    "                    if (row, col) != self.start and (row, col) != self.goal:\n",
    "                        vis_maze[row, col] = 4  \n",
    "            \n",
    "            if path:                        \n",
    "                for _, (row, col) in path:\n",
    "                    if (row, col) != self.start and (row, col) != self.goal:\n",
    "                        vis_maze[row, col] = 5  \n",
    "            \n",
    "            # CREATING THE FIGURE AND DISPLAYING THE MAZE\n",
    "            plt.figure(figsize=(10, 10))\n",
    "            plt.imshow(vis_maze, cmap=cmap)\n",
    "            # grid lines to separate cells\n",
    "            plt.grid(which='major', axis='both', linestyle='-', color='k', linewidth=1)\n",
    "            plt.xticks(np.arange(-.5, self.cols, 1), [])\n",
    "            plt.yticks(np.arange(-.5, self.rows, 1), [])\n",
    "            \n",
    "            # LEGEND\n",
    "            legend_elements = [\n",
    "                mpatches.Patch(color='white', label='Open'),\n",
    "                mpatches.Patch(color='black', label='Wall'),\n",
    "                mpatches.Patch(color='green', label='Start (A)'),\n",
    "                mpatches.Patch(color='red', label='Goal (B)'),\n",
    "                mpatches.Patch(color='blue', label='Explored'),\n",
    "                mpatches.Patch(color='yellow', label='Path')\n",
    "            ]\n",
    "            plt.legend(handles=legend_elements, loc='upper right')\n",
    "            \n",
    "            # set plot title   \n",
    "            plt.title(f\"{algorithm_name}\")\n",
    "            \n",
    "            plt.show()\n",
    "print(\"continue\")"
   ]
  },
  {
   "cell_type": "code",
   "execution_count": 3,
   "id": "ec2d1d84-d480-416b-8043-e5c14b72ec10",
   "metadata": {},
   "outputs": [
    {
     "name": "stdout",
     "output_type": "stream",
     "text": [
      "continue\n"
     ]
    }
   ],
   "source": [
    "class Node:\n",
    "    def __init__(self, state, parent=None, action=None, cost=0):\n",
    "       \n",
    "        self.state = state     #The cell (row, col)\n",
    "        self.parent = parent   #The previous node\n",
    "        self.action = action   #he movements (up,down,left,right)\n",
    "        self.cost = cost       #number of steps from the start\n",
    "    \n",
    "    def __lt__(self, other):\n",
    "        \"\"\"\n",
    "        Define less than for heap comparison.\n",
    "        This is needed for the priority queue.\n",
    "        \"\"\"\n",
    "        return self.cost < other.cost\n",
    "print(\"continue\")"
   ]
  },
  {
   "cell_type": "code",
   "execution_count": 9,
   "id": "60516e22-4a15-469c-b75c-90b67f36e7ce",
   "metadata": {},
   "outputs": [
    {
     "name": "stdout",
     "output_type": "stream",
     "text": [
      "Solution for: Greedy Best-First Search\n",
      "Path found with 13 steps.\n",
      "Explored 13 states.\n"
     ]
    },
    {
     "data": {
      "image/png": "[encoded data removed]",
      "text/plain": [
       "<Figure size 720x720 with 1 Axes>"
      ]
     },
     "metadata": {
      "needs_background": "light"
     },
     "output_type": "display_data"
    },
    {
     "name": "stdout",
     "output_type": "stream",
     "text": [
      "\n",
      "Solution fot: A* Search\n",
      "Path found with 13 steps\n",
      "Explored 23 states.\n"
     ]
    },
    {
     "data": {
      "image/png": "[encoded data removed]",
      "text/plain": [
       "<Figure size 720x720 with 1 Axes>"
      ]
     },
     "metadata": {
      "needs_background": "light"
     },
     "output_type": "display_data"
    }
   ],
   "source": [
    "def main():\n",
    "    maze_file = r\"C:\\Users\\Liam\\Downloads\\maze3.txt\"  #file\n",
    "    maze = Maze(maze_file)\n",
    "    \n",
    "    #Greedy Best-First Search\n",
    "    print(\"Solution for: Greedy Best-First Search\")\n",
    "    greedy_path, greedy_explored = maze.solve(algorithm=\"greedy\")\n",
    "    print(f\"Path found with {len(greedy_path)} steps.\")\n",
    "    print(f\"Explored {len(greedy_explored)} states.\")\n",
    "    \n",
    "    maze.visualize(\n",
    "        path=greedy_path,\n",
    "        explored=greedy_explored,\n",
    "        algorithm_name=\"Greedy Best-First Search\"  #title\n",
    "    )\n",
    "    \n",
    "    print(\"\\nSolution fot: A* Search\")\n",
    "    astar_path, astar_explored = maze.solve(algorithm=\"a_star\")\n",
    "    print(f\"Path found with {len(astar_path)} steps\")\n",
    "    print(f\"Explored {len(astar_explored)} states.\")\n",
    "    \n",
    "    ##visual representation\n",
    "    maze.visualize(\n",
    "        path=astar_path,\n",
    "        explored=astar_explored,\n",
    "        algorithm_name=\"A* Search\" #maze title\n",
    "    )\n",
    "\n",
    "if __name__ == \"__main__\":\n",
    "    main()"
   ]
  },
  {
   "cell_type": "code",
   "execution_count": 14,
   "id": "2516de94",
   "metadata": {},
   "outputs": [
    {
     "name": "stdout",
     "output_type": "stream",
     "text": [
      "Solution for: Greedy Best-First Search\n",
      "Path found with 39 steps.\n",
      "Explored 55 states.\n"
     ]
    },
    {
     "data": {
      "image/png": "[encoded data removed]",
      "text/plain": [
       "<Figure size 720x720 with 1 Axes>"
      ]
     },
     "metadata": {
      "needs_background": "light"
     },
     "output_type": "display_data"
    },
    {
     "name": "stdout",
     "output_type": "stream",
     "text": [
      "\n",
      "Solution fot: A* Search\n",
      "Path found with 39 steps\n",
      "Explored 62 states.\n"
     ]
    },
    {
     "data": {
      "image/png": "[encoded data removed]",
      "text/plain": [
       "<Figure size 720x720 with 1 Axes>"
      ]
     },
     "metadata": {
      "needs_background": "light"
     },
     "output_type": "display_data"
    }
   ],
   "source": [
    "def main():\n",
    "    maze_file = r\"C:\\Users\\Liam\\Downloads\\maze.txt\"  #file\n",
    "    maze = Maze(maze_file)\n",
    "    \n",
    "    #Greedy Best-First Search\n",
    "    print(\"Solution for: Greedy Best-First Search\")\n",
    "    greedy_path, greedy_explored = maze.solve(algorithm=\"greedy\")\n",
    "    print(f\"Path found with {len(greedy_path)} steps.\")\n",
    "    print(f\"Explored {len(greedy_explored)} states.\")\n",
    "    \n",
    "    maze.visualize(\n",
    "        path=greedy_path,\n",
    "        explored=greedy_explored,\n",
    "        algorithm_name=\"Greedy Best-First Search\"  #title\n",
    "    )\n",
    "    \n",
    "    print(\"\\nSolution fot: A* Search\")\n",
    "    astar_path, astar_explored = maze.solve(algorithm=\"a_star\")\n",
    "    print(f\"Path found with {len(astar_path)} steps\")\n",
    "    print(f\"Explored {len(astar_explored)} states.\")\n",
    "    \n",
    "    ##visual representation\n",
    "    maze.visualize(\n",
    "        path=astar_path,\n",
    "        explored=astar_explored,\n",
    "        algorithm_name=\"A* Search\" #maze title\n",
    "    )\n",
    "\n",
    "if __name__ == \"__main__\":\n",
    "    main()"
   ]
  },
  {
   "cell_type": "code",
   "execution_count": null,
   "id": "0e4a029c",
   "metadata": {},
   "outputs": [],
   "source": []
  }
 ],
 "metadata": {
  "kernelspec": {
   "display_name": "Python 3 (ipykernel)",
   "language": "python",
   "name": "python3"
  },
  "language_info": {
   "codemirror_mode": {
    "name": "ipython",
    "version": 3
   },
   "file_extension": ".py",
   "mimetype": "text/x-python",
   "name": "python",
   "nbconvert_exporter": "python",
   "pygments_lexer": "ipython3",
   "version": "3.9.7"
  }
 },
 "nbformat": 4,
 "nbformat_minor": 5
}
