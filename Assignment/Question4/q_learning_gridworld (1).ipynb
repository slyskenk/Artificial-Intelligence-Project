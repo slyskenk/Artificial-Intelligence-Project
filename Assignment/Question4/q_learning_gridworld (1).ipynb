{
 "cells": [
  {
   "cell_type": "markdown",
   "id": "3ef48054",
   "metadata": {},
   "source": [
    "# Q-learning on a 5×5 Gridworld\n",
    "This notebook implements Q-learning to approximate the optimal value function and policy."
   ]
  },
  {
   "cell_type": "code",
   "execution_count": 1,
   "id": "baf03cfc-fb57-4129-92a8-1836968e62cf",
   "metadata": {},
   "outputs": [],
   "source": [
    "from IPython import get_ipython\n",
    "from IPython.display import display\n",
    "\n",
    "import numpy as np\n",
    "import matplotlib.pyplot as plt"
   ]
  },
  {
   "cell_type": "code",
   "execution_count": 2,
   "id": "4c7521d8-3e5c-4fa1-a970-053cd9e87d8b",
   "metadata": {},
   "outputs": [],
   "source": [
    "grid_size = (5, 5)\n",
    "special_states = {'A': (0,1), 'B': (0,3)}\n",
    "next_states = {'A\\'': (4,1), 'B\\'': (2,3)}\n",
    "special_rewards = {'A': 10, 'B': 5}\n",
    "\n",
    "gamma = 0.9  # Discount factor\n",
    "epsilon = 0.1  # Exploration rate\n",
    "alpha = 0.2  # Learning rate\n",
    "episodes = 5000\n",
    "steps_per_episode = 5000\n",
    "\n",
    "actions = ['north', 'south', 'east', 'west']\n",
    "Q_table = np.zeros((*grid_size, len(actions)))"
   ]
  },
  {
   "cell_type": "code",
   "execution_count": 3,
   "id": "d6ace106-502a-4b85-98e1-30a8eafbcfea",
   "metadata": {},
   "outputs": [],
   "source": [
    "def get_next_state(state, action):\n",
    "    \"\"\"Returns the next state based on action.\"\"\"\n",
    "    x, y = state\n",
    "    if action == 'north' and x > 0: x -= 1\n",
    "    elif action == 'south' and x < grid_size[0] - 1: x += 1\n",
    "    elif action == 'east' and y < grid_size[1] - 1: y += 1\n",
    "    elif action == 'west' and y > 0: y -= 1\n",
    "    return (x, y)\n",
    "\n",
    "def get_reward(state):\n",
    "    \"\"\"Returns the reward for the given state.\"\"\"\n",
    "    if state in special_states.values():\n",
    "        return special_rewards[[k for k, v in special_states.items() if v == state][0]]\n",
    "    return -1 if state in [(0,0), (grid_size[0]-1, grid_size[1]-1)] else 0\n"
   ]
  },
  {
   "cell_type": "code",
   "execution_count": null,
   "id": "36c66848-1603-413c-8b6d-18ccd963d6e3",
   "metadata": {},
   "outputs": [],
   "source": [
    "for episode in range(episodes):\n",
    "    state = (np.random.randint(grid_size[0]), np.random.randint(grid_size[1]))\n",
    "    for step in range(steps_per_episode):\n",
    "        # Choose action using epsilon-greedy policy\n",
    "        if np.random.uniform(0, 1) < epsilon:\n",
    "            action = np.random.choice(actions)\n",
    "        else:\n",
    "            action = actions[np.argmax(Q_table[state])]\n",
    "\n",
    "        next_state = get_next_state(state, action)\n",
    "        reward = get_reward(next_state)\n",
    "\n",
    "        # Update Q-value using the Bellman equation\n",
    "        Q_table[state][actions.index(action)] += alpha * (\n",
    "            reward + gamma * np.max(Q_table[next_state]) - Q_table[state][actions.index(action)]\n",
    "        )\n",
    "\n",
    "        state = next_state  # Move to next state"
   ]
  },
  {
   "cell_type": "code",
   "execution_count": null,
   "id": "2c174b3c-cc83-4809-bc51-cd7987898d8b",
   "metadata": {},
   "outputs": [],
   "source": [
    "print(\"Initializing Gridworld...\")\n",
    "print(\"Grid size:\", grid_size[0], \"x\", grid_size[1])\n",
    "print(\"Special_states =\", special_states)\n",
    "print(\"Next_to_states =\", next_states)\n",
    "print(\"Special_rewards =\", special_rewards)\n",
    "print(\"Starting Q-learning with parameters:\")\n",
    "print(\"  γ =\", gamma)\n",
    "print(\"  ε =\", epsilon)\n",
    "print(\"  α =\", alpha)\n",
    "print(\"  Episodes =\", episodes)\n",
    "print(\"  Steps =\", steps_per_episode)\n",
    "print()"
   ]
  },
  {
   "cell_type": "code",
   "execution_count": null,
   "id": "26a405fa-a8a0-428d-b141-3dbd21b7dc93",
   "metadata": {},
   "outputs": [],
   "source": [
    "for episode in range(episodes):\n",
    "    state = (np.random.randint(grid_size[0]), np.random.randint(grid_size[1]))\n",
    "    for step in range(steps_per_episode):\n",
    "        # Choose action using epsilon-greedy policy\n",
    "        if np.random.uniform(0, 1) < epsilon:\n",
    "            action = np.random.choice(actions)\n",
    "        else:\n",
    "            action = actions[np.argmax(Q_table[state])]\n",
    "\n",
    "        next_state = get_next_state(state, action)\n",
    "        reward = get_reward(next_state)\n",
    "\n",
    "        # Update Q-value using the Bellman equation\n",
    "        Q_table[state][actions.index(action)] += alpha * (\n",
    "            reward + gamma * np.max(Q_table[next_state]) - Q_table[state][actions.index(action)]\n",
    "        )\n",
    "\n",
    "        state = next_state  # Move to next state"
   ]
  },
  {
   "cell_type": "code",
   "execution_count": null,
   "id": "3d1c604c-a11a-48d6-b6d9-307425674eb7",
   "metadata": {},
   "outputs": [],
   "source": [
    "optimal_policy = np.array([actions[np.argmax(Q_table[state])] for state in np.ndindex(grid_size)])\n",
    "\n",
    "# Format the output\n",
    "print(\"Evaluating optimal value function and policy...\")\n",
    "print(\"Optimal Value Function:\")\n",
    "print(np.array_str(Q_table.max(axis=-1), precision=2, suppress_small=True))\n",
    "print()\n",
    "print(\"Optimal Policy:\")\n",
    "print(np.array_str(optimal_policy.reshape(grid_size), max_line_width=100))  # Adjust line width as needed\n",
    "print()\n",
    "\n",
    "policy_arrows = {'north': '↑', 'south': '↓', 'east': '→', 'west': '←'}\n",
    "visual_policy = np.vectorize(lambda x: policy_arrows[x])(optimal_policy.reshape(grid_size))\n",
    "\n",
    "print(\"Optimal Policy (arrows):\")\n",
    "for row in visual_policy:\n",
    "    print(\" \".join(row))"
   ]
  },
  {
   "cell_type": "code",
   "execution_count": null,
   "id": "46b184d7-3ece-42a3-ae16-5bb667b1541e",
   "metadata": {},
   "outputs": [],
   "source": []
  }
 ],
 "metadata": {
  "kernelspec": {
   "display_name": "Python 3 (ipykernel)",
   "language": "python",
   "name": "python3"
  },
  "language_info": {
   "codemirror_mode": {
    "name": "ipython",
    "version": 3
   },
   "file_extension": ".py",
   "mimetype": "text/x-python",
   "name": "python",
   "nbconvert_exporter": "python",
   "pygments_lexer": "ipython3",
   "version": "3.12.4"
  }
 },
 "nbformat": 4,
 "nbformat_minor": 5
}
